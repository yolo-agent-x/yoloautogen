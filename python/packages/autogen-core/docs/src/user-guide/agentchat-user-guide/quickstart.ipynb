{
 "cells": [
  {
   "cell_type": "markdown",
   "metadata": {},
   "source": [
    "# Quickstart"
   ]
  },
  {
   "cell_type": "markdown",
   "metadata": {},
   "source": [
    "```{include} warning.md\n",
    "\n",
    "```\n",
    "\n",
    ":::{note}\n",
    "For installation instructions, please refer to the [installation guide](./installation).\n",
    ":::\n",
    "\n",
    "\n",
    "\n",
    "An agent is a software entity that communicates via messages, maintains its own state, and performs actions in response to received messages or changes in its state. \n",
    "\n",
    "In AgentChat, agents can be rapidly implemented using preset agent configurations. To illustrate this, we will begin with creating an agent that can address tasks by responding to messages it receives. "
   ]
  },
  {
   "cell_type": "code",
   "execution_count": 1,
   "metadata": {},
   "outputs": [
    {
     "name": "stdout",
     "output_type": "stream",
     "text": [
      "\n",
      "--------------------------------------------------------------------------- \n",
      "\u001b[91m[2024-10-23T12:15:51.582079]:\u001b[0m\n",
      "\n",
      "What is the weather in New York?\n",
      "--------------------------------------------------------------------------- \n",
      "\u001b[91m[2024-10-23T12:15:52.745820], writing_agent:\u001b[0m\n",
      "\n",
      "The weather in New York is currently 73 degrees and sunny. TERMINATE\n",
      "--------------------------------------------------------------------------- \n",
      "\u001b[91m[2024-10-23T12:15:52.746210], Termination:\u001b[0m\n",
      "\n",
      "Maximal number of messages 1 reached, current message count: 1\n",
      " TaskResult(messages=[TextMessage(source='user', content='What is the weather in New York?'), StopMessage(source='writing_agent', content='The weather in New York is currently 73 degrees and sunny. TERMINATE')])\n"
     ]
    }
   ],
   "source": [
    "import logging\n",
    "\n",
    "from autogen_agentchat import EVENT_LOGGER_NAME\n",
    "from autogen_agentchat.agents import ToolUseAssistantAgent\n",
    "from autogen_agentchat.logging import ConsoleLogHandler\n",
    "from autogen_agentchat.task import MaxMessageTermination\n",
    "from autogen_agentchat.teams import RoundRobinGroupChat\n",
    "from autogen_core.components.tools import FunctionTool\n",
    "from autogen_ext.models import OpenAIChatCompletionClient\n",
    "\n",
    "logger = logging.getLogger(EVENT_LOGGER_NAME)\n",
    "logger.addHandler(ConsoleLogHandler())\n",
    "logger.setLevel(logging.INFO)\n",
    "\n",
    "\n",
    "# define a tool\n",
    "async def get_weather(city: str) -> str:\n",
    "    return f\"The weather in {city} is 73 degrees and Sunny.\"\n",
    "\n",
    "\n",
    "# wrap the tool for use with the agent\n",
    "get_weather_tool = FunctionTool(get_weather, description=\"Get the weather for a city\")\n",
    "\n",
    "# define an agent\n",
    "weather_agent = ToolUseAssistantAgent(\n",
    "    name=\"writing_agent\",\n",
    "    model_client=OpenAIChatCompletionClient(model=\"gpt-4o-2024-08-06\"),\n",
    "    registered_tools=[get_weather_tool],\n",
    ")\n",
    "\n",
    "# add the agent to a team\n",
    "agent_team = RoundRobinGroupChat([weather_agent])\n",
    "# Note: if running in a Python file directly you'll need to use asyncio.run(agent_team.run(...)) instead of await agent_team.run(...)\n",
    "result = await agent_team.run(\n",
    "    task=\"What is the weather in New York?\",\n",
    "    termination_condition=MaxMessageTermination(max_messages=1),\n",
    ")\n",
    "print(\"\\n\", result)"
   ]
  },
  {
   "cell_type": "markdown",
   "metadata": {},
   "source": [
    "The code snippet above introduces two high level concepts in AgentChat: `Agent` and `Team`.  An Agent helps us define what actions are taken when a message is received. Specifically, we use the `ToolUseAssistantAgent` preset - an agent that can be given a function that it can then use to address tasks.  A Team helps us define the rules for how agents interact with each other.  In the  `RoundRobinGroupChat` team, agents receive messages in a sequential round-robin fashion.  "
   ]
  },
  {
   "cell_type": "markdown",
   "metadata": {},
   "source": [
    "## What's Next?\n",
    "\n",
    "Now that you have a basic understanding of how to define an agent and a team, consider following the [tutorial](./tutorial/index) for a walkthrough on other features of AgentChat.\n",
    "\n"
   ]
  }
 ],
 "metadata": {
  "kernelspec": {
   "display_name": ".venv",
   "language": "python",
   "name": "python3"
  },
  "language_info": {
   "codemirror_mode": {
    "name": "ipython",
    "version": 3
   },
   "file_extension": ".py",
   "mimetype": "text/x-python",
   "name": "python",
   "nbconvert_exporter": "python",
   "pygments_lexer": "ipython3",
   "version": "3.12.6"
  }
 },
 "nbformat": 4,
 "nbformat_minor": 2
}
